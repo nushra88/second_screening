{
 "cells": [
  {
   "cell_type": "markdown",
   "metadata": {},
   "source": [
    "## **1. Import pandas as pd**\n",
    "##### Csv file loaded into pandas dataframe\n",
    "##### First 10 rows are shown"
   ]
  },
  {
   "cell_type": "code",
   "execution_count": 2,
   "metadata": {},
   "outputs": [
    {
     "name": "stdout",
     "output_type": "stream",
     "text": [
      "           id             date      price  bedrooms  bathrooms  sqft_living  \\\n",
      "0  7129300520  20141013T000000   221900.0         3       1.00         1180   \n",
      "1  6414100192  20141209T000000   538000.0         3       2.25         2570   \n",
      "2  5631500400  20150225T000000   180000.0         2       1.00          770   \n",
      "3  2487200875  20141209T000000   604000.0         4       3.00         1960   \n",
      "4  1954400510  20150218T000000   510000.0         3       2.00         1680   \n",
      "5  7237550310  20140512T000000  1225000.0         4       4.50         5420   \n",
      "6  1321400060  20140627T000000   257500.0         3       2.25         1715   \n",
      "7  2008000270  20150115T000000   291850.0         3       1.50         1060   \n",
      "8  2414600126  20150415T000000   229500.0         3       1.00         1780   \n",
      "9  3793500160  20150312T000000   323000.0         3       2.50         1890   \n",
      "\n",
      "   sqft_lot  floors  waterfront  view  ...  grade  sqft_above  sqft_basement  \\\n",
      "0      5650     1.0           0     0  ...      7        1180              0   \n",
      "1      7242     2.0           0     0  ...      7        2170            400   \n",
      "2     10000     1.0           0     0  ...      6         770              0   \n",
      "3      5000     1.0           0     0  ...      7        1050            910   \n",
      "4      8080     1.0           0     0  ...      8        1680              0   \n",
      "5    101930     1.0           0     0  ...     11        3890           1530   \n",
      "6      6819     2.0           0     0  ...      7        1715              0   \n",
      "7      9711     1.0           0     0  ...      7        1060              0   \n",
      "8      7470     1.0           0     0  ...      7        1050            730   \n",
      "9      6560     2.0           0     0  ...      7        1890              0   \n",
      "\n",
      "   yr_built  yr_renovated  zipcode      lat     long  sqft_living15  \\\n",
      "0      1955             0    98178  47.5112 -122.257           1340   \n",
      "1      1951          1991    98125  47.7210 -122.319           1690   \n",
      "2      1933             0    98028  47.7379 -122.233           2720   \n",
      "3      1965             0    98136  47.5208 -122.393           1360   \n",
      "4      1987             0    98074  47.6168 -122.045           1800   \n",
      "5      2001             0    98053  47.6561 -122.005           4760   \n",
      "6      1995             0    98003  47.3097 -122.327           2238   \n",
      "7      1963             0    98198  47.4095 -122.315           1650   \n",
      "8      1960             0    98146  47.5123 -122.337           1780   \n",
      "9      2003             0    98038  47.3684 -122.031           2390   \n",
      "\n",
      "   sqft_lot15  \n",
      "0        5650  \n",
      "1        7639  \n",
      "2        8062  \n",
      "3        5000  \n",
      "4        7503  \n",
      "5      101930  \n",
      "6        6819  \n",
      "7        9711  \n",
      "8        8113  \n",
      "9        7570  \n",
      "\n",
      "[10 rows x 21 columns]\n"
     ]
    }
   ],
   "source": [
    "import pandas as pd\n",
    "\n",
    "house_sales = pd.read_csv(\"kc_house_data.csv\")\n",
    "print(house_sales[:10])\n"
   ]
  }
 ],
 "metadata": {
  "kernelspec": {
   "display_name": "base",
   "language": "python",
   "name": "python3"
  },
  "language_info": {
   "codemirror_mode": {
    "name": "ipython",
    "version": 3
   },
   "file_extension": ".py",
   "mimetype": "text/x-python",
   "name": "python",
   "nbconvert_exporter": "python",
   "pygments_lexer": "ipython3",
   "version": "3.12.7"
  }
 },
 "nbformat": 4,
 "nbformat_minor": 2
}
